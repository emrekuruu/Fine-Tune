{
 "cells": [
  {
   "cell_type": "code",
   "execution_count": 1,
   "metadata": {},
   "outputs": [
    {
     "name": "stderr",
     "output_type": "stream",
     "text": [
      "/Users/emrekuru/Developer/Fine-Tune/.venv/lib/python3.12/site-packages/tqdm/auto.py:21: TqdmWarning: IProgress not found. Please update jupyter and ipywidgets. See https://ipywidgets.readthedocs.io/en/stable/user_install.html\n",
      "  from .autonotebook import tqdm as notebook_tqdm\n"
     ]
    }
   ],
   "source": [
    "import os \n",
    "import pandas as pd \n",
    "from zero_shot import get_predictions\n",
    "from datasets import load_dataset\n",
    "from sklearn.model_selection import train_test_split"
   ]
  },
  {
   "cell_type": "code",
   "execution_count": 2,
   "metadata": {},
   "outputs": [],
   "source": [
    "with open(\"openai_api_key.txt\") as f:\n",
    "    api_key = f.read().strip()\n",
    "\n",
    "os.environ[\"OPENAI_API_KEY\"] = api_key"
   ]
  },
  {
   "cell_type": "code",
   "execution_count": 3,
   "metadata": {},
   "outputs": [],
   "source": [
    "dataset = load_dataset(\"financial_phrasebank\", \"sentences_50agree\", trust_remote_code=True)\n",
    "\n",
    "df = pd.DataFrame(dataset['train'])\n",
    "\n",
    "# Stratify split into train, validation, and test\n",
    "train_texts, test_texts, train_labels, test_labels = train_test_split(\n",
    "    df['sentence'], df['label'], test_size=0.2, stratify=df['label'], random_state=42\n",
    ")\n",
    "\n",
    "train_texts, val_texts, train_labels, val_labels = train_test_split(\n",
    "    train_texts, train_labels, test_size=0.1, stratify=train_labels, random_state=42\n",
    ")\n",
    "\n",
    "train_df = pd.DataFrame({'sentence': train_texts, 'label': train_labels})\n",
    "val_df = pd.DataFrame({'sentence': val_texts, 'label': val_labels})\n",
    "test_df = pd.DataFrame({'sentence': test_texts, 'label': test_labels})"
   ]
  },
  {
   "cell_type": "code",
   "execution_count": 4,
   "metadata": {},
   "outputs": [
    {
     "name": "stderr",
     "output_type": "stream",
     "text": [
      "Processing Batches: 100%|██████████| 10/10 [09:41<00:00, 58.20s/it]\n"
     ]
    }
   ],
   "source": [
    "predictions = get_predictions(test_df[\"sentence\"].tolist(), \"gpt-4o-mini\", batch_size=100)"
   ]
  },
  {
   "cell_type": "code",
   "execution_count": 5,
   "metadata": {},
   "outputs": [],
   "source": [
    "pd.DataFrame(predictions, index=test_df.index, columns=[\"prediction\"]).to_csv(\"predictions/gpt-4.csv\", index=True)"
   ]
  }
 ],
 "metadata": {
  "kernelspec": {
   "display_name": ".venv",
   "language": "python",
   "name": "python3"
  },
  "language_info": {
   "codemirror_mode": {
    "name": "ipython",
    "version": 3
   },
   "file_extension": ".py",
   "mimetype": "text/x-python",
   "name": "python",
   "nbconvert_exporter": "python",
   "pygments_lexer": "ipython3",
   "version": "3.12.7"
  }
 },
 "nbformat": 4,
 "nbformat_minor": 2
}
